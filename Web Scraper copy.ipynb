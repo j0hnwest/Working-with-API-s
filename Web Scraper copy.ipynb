{
 "cells": [
  {
   "cell_type": "markdown",
   "id": "6233a9b6",
   "metadata": {},
   "source": [
    "# Installing splinter and selenium"
   ]
  },
  {
   "cell_type": "code",
   "execution_count": 1,
   "id": "e594bfab",
   "metadata": {},
   "outputs": [],
   "source": [
    "#!pip install splinter"
   ]
  },
  {
   "cell_type": "code",
   "execution_count": 2,
   "id": "80439823",
   "metadata": {},
   "outputs": [],
   "source": [
    "#!pip install selenium"
   ]
  },
  {
   "cell_type": "code",
   "execution_count": 32,
   "id": "41a9e25b",
   "metadata": {
    "collapsed": true
   },
   "outputs": [
    {
     "name": "stdout",
     "output_type": "stream",
     "text": [
      "Requirement already satisfied: Pillow in /Users/johnwest/opt/anaconda3/lib/python3.9/site-packages (9.2.0)\r\n"
     ]
    }
   ],
   "source": [
    "#!pip install Pillow"
   ]
  },
  {
   "cell_type": "code",
   "execution_count": 48,
   "id": "995e7870",
   "metadata": {
    "collapsed": true
   },
   "outputs": [
    {
     "name": "stdout",
     "output_type": "stream",
     "text": [
      "Collecting language_tool_python\n",
      "  Downloading language_tool_python-2.8-py3-none-any.whl (35 kB)\n",
      "Requirement already satisfied: wheel in /Users/johnwest/opt/anaconda3/lib/python3.9/site-packages (from language_tool_python) (0.37.1)\n",
      "Requirement already satisfied: tqdm in /Users/johnwest/opt/anaconda3/lib/python3.9/site-packages (from language_tool_python) (4.64.1)\n",
      "Requirement already satisfied: requests in /Users/johnwest/opt/anaconda3/lib/python3.9/site-packages (from language_tool_python) (2.28.1)\n",
      "Requirement already satisfied: pip in /Users/johnwest/opt/anaconda3/lib/python3.9/site-packages (from language_tool_python) (22.2.2)\n",
      "Requirement already satisfied: certifi>=2017.4.17 in /Users/johnwest/opt/anaconda3/lib/python3.9/site-packages (from requests->language_tool_python) (2022.9.24)\n",
      "Requirement already satisfied: idna<4,>=2.5 in /Users/johnwest/opt/anaconda3/lib/python3.9/site-packages (from requests->language_tool_python) (3.3)\n",
      "Requirement already satisfied: charset-normalizer<3,>=2 in /Users/johnwest/opt/anaconda3/lib/python3.9/site-packages (from requests->language_tool_python) (2.0.4)\n",
      "Requirement already satisfied: urllib3<1.27,>=1.21.1 in /Users/johnwest/opt/anaconda3/lib/python3.9/site-packages (from requests->language_tool_python) (1.26.18)\n",
      "Installing collected packages: language_tool_python\n",
      "Successfully installed language_tool_python-2.8\n"
     ]
    }
   ],
   "source": [
    "!pip install language_tool_python"
   ]
  },
  {
   "cell_type": "markdown",
   "id": "98b8f756",
   "metadata": {},
   "source": [
    "# Importing required packages"
   ]
  },
  {
   "cell_type": "code",
   "execution_count": 58,
   "id": "0828064e",
   "metadata": {},
   "outputs": [],
   "source": [
    "# importing all the required packages\n",
    "from splinter import Browser\n",
    "from selenium import webdriver\n",
    "from selenium.webdriver.chrome.service import Service\n",
    "from PIL import Image\n",
    "import pandas as pd\n",
    "from io import BytesIO\n",
    "import csv\n",
    "import language_tool_python"
   ]
  },
  {
   "cell_type": "markdown",
   "id": "9e496641",
   "metadata": {},
   "source": [
    "# Creating a function that initiates the broswer"
   ]
  },
  {
   "cell_type": "code",
   "execution_count": 2,
   "id": "b549d81a",
   "metadata": {},
   "outputs": [],
   "source": [
    "# this is a function to initiate a browser\n",
    "def start_browser():\n",
    "    my_service = Service(executable_path='app_files/chromedriver', encoding='UTF-8')\n",
    "    browser = Browser('chrome', service=my_service, headless=False)\n",
    "    return browser"
   ]
  },
  {
   "cell_type": "markdown",
   "id": "0c9e1f5b",
   "metadata": {},
   "source": [
    "# Making the function a variable so we can call it later without needing input"
   ]
  },
  {
   "cell_type": "code",
   "execution_count": 3,
   "id": "dfad6733",
   "metadata": {},
   "outputs": [],
   "source": [
    "# creating a variable that houses the start_browser function\n",
    "# the variable now launches the google chrome browser\n",
    "browser = start_browser()"
   ]
  },
  {
   "cell_type": "code",
   "execution_count": 4,
   "id": "ea20ea6d",
   "metadata": {},
   "outputs": [],
   "source": [
    "# creating a variable for the poshmark url\n",
    "poshmark_url = 'https://poshmark.com/feed'\n",
    "# using browser to visit the page \n",
    "browser.visit(poshmark_url)"
   ]
  },
  {
   "cell_type": "code",
   "execution_count": 5,
   "id": "ae908fc5",
   "metadata": {},
   "outputs": [],
   "source": [
    "# calling login section of Poshmarks website\n",
    "# username or email login \n",
    "test = browser.find_by_css('div[class=\"pmform no-label pm-form\"]')\n",
    "username_tag = test.find_by_name('login_form[username_email]')"
   ]
  },
  {
   "cell_type": "code",
   "execution_count": 6,
   "id": "f1ca2721",
   "metadata": {},
   "outputs": [],
   "source": [
    "# using .fill to enter my email/username into Poshmark\n",
    "username_tag.fill('jdubs7722@gmail.com')"
   ]
  },
  {
   "cell_type": "code",
   "execution_count": 7,
   "id": "6a2d3841",
   "metadata": {},
   "outputs": [],
   "source": [
    "# find_by_name finds the tag -- ensuring it exists\n",
    "password_tag = test.find_by_name('login_form[password]')\n",
    "# using .fill() to fill in password for poshmark\n",
    "password_tag.fill('Johnwest7722')"
   ]
  },
  {
   "cell_type": "code",
   "execution_count": 8,
   "id": "670f504d",
   "metadata": {},
   "outputs": [],
   "source": [
    "# this code finds the login button and clicks it\n",
    "test2 = browser.find_by_css('div[class=\"form__actions br--none p--t--0 jc--sb fw--w\"]').find_by_css('button')\n",
    "login_click = test2.click()\n",
    "login_click"
   ]
  },
  {
   "cell_type": "code",
   "execution_count": 9,
   "id": "3511e094",
   "metadata": {},
   "outputs": [],
   "source": [
    "# after logging into poshmark this selects 'All Picks'\n",
    "# this loads the Just Picked for You page \n",
    "just_picked = browser.links.find_by_href('/just-picked').click()"
   ]
  },
  {
   "cell_type": "code",
   "execution_count": 34,
   "id": "8fa0b4f3",
   "metadata": {},
   "outputs": [
    {
     "name": "stdout",
     "output_type": "stream",
     "text": [
      "['']\n",
      "['Supreme beanie']\n",
      "['Supreme Logo Twill Crusher Hat 2021 Collection Strapback Hat']\n",
      "['Size 9 - Jordan 11 Low\\u205fRetro “Legend Blue” 2021 OG All (AV2187-117)']\n",
      "['New Balance 9060']\n",
      "['Nike Element Patch Heavyweight Sweatpant DC2723-140 Men Size Medium']\n",
      "['Grey Nike Cargo Sweatpants']\n",
      "['NIB Dr Martens X The Great Frog Collaboration Platform Boots Men’s 9 Shoes\\nNWT']\n",
      "['NWT Nike Sports Essentials+ Fleece Shorts Black and White Medium\\nNWT']\n",
      "['1327. NEW! Birkenstock Narrow-Fit-Brown-EU-42 US 9 Mens']\n",
      "['Crocs X McDonalds Hamburglar Classic Clogs Sandals Limited Edition M 9 / W 11\\nNWT']\n",
      "['Men’s Carhartt Hat']\n",
      "['\\U0001d17aCarhartt Cap']\n",
      "['Carhartt hat adjustable Velcro strap one size fits all front logo blue/grey']\n",
      "['Carhartt khaki hat with camo under brim Velcro adjustable GUC']\n",
      "['RAY BAN round metal iconic glasses NWT\\nNWT']\n",
      "['Ray-Ban Sunglasses RB4171 ERIKA 622/8G Matte Black Frames with Purple Lenses\\nNWT']\n",
      "['NWT RAY-BAN Men’s Sunglasses Matte Black Frame with Grey Lens PERFECT CONDITION\\nNWT']\n",
      "['Ray-Ban Sunglasses RB4165 JUSTIN 622/6G Rubberized Matte Black Mirrored Lenses\\nNWT']\n",
      "['Stussy - Polka Dot Corduroy Strapback Hat Wine']\n",
      "[\"Birkenstock Milano Sandals Men's 9 US / 42 EU Regula Gray Taupe Birko-Flor\\nNWT\"]\n",
      "['Nike Sweatpants Mens MED White Heather Sportswear Tech Fleece Joggers DD4706-100']\n",
      "['Birkenstock Arizona Mocha']\n",
      "['Supreme 2-Tone Camp Cap Hat White FW23 Supreme New York 2023 Brand New Free S&H\\nNWT']\n",
      "['NWT Supreme Washed Chino Twill Camp Cap\\nNWT']\n",
      "['Supreme Hat, Double S 5 Panel Hat\\nNWT']\n",
      "['Stussy Graphic Tee']\n",
      "[\"Vintage Nike Vest Men's Large Gray Sleeveless Sweatshirt Blue Tag USA Rising Sun\"]\n",
      "['Nike Tie-dye Fleece Pullover Hoodie Mens DZ3062-546 Hooded Sweatshirt\\nNWT']\n",
      "['New Balance 990v4 Mid Tan Digi Camo Military RARE Made In USA MO990HR4 Size 10']\n",
      "['Kawhi Two Wxy Light Peony/Black']\n",
      "['Kappa logo Simbola Size Large Long sleeved T~shirt The Basic Net']\n",
      "['Nike Elite backpack Red\\nNWT']\n",
      "['Nike elite backpack\\nNWT']\n",
      "['Nike Hoops Elite Backpack (32L) limited edition\\nNWT']\n",
      "['Birkenstock (Mens 9 Womens 11) Arizona Eva Comfort Sandals Slip On Slides Shoes']\n",
      "['Perfetto Pants Mens Size M Parachute Colorful Vintage 90s Athletic Tribal Purple']\n",
      "['Guapi Gvapi Men’s Jogger Pants 32 x 32 Limited Edition Black Crystals Blood Red']\n",
      "[\"Men's Nike shorts/ shirts\"]\n",
      "['Shirt']\n",
      "['carhartt relaxed fit gray pants']\n",
      "['ROCK ‘N THE KNOB Blue Knob Ski Resort PA Fersten Bucket Adult OS Sun Hat Cap NEW\\nNWT']\n",
      "['University of Notre Dame Alumni Hat NWT\\nNWT']\n",
      "['Nike Therma-Fit Sweatpants']\n",
      "['Versace Jeans Couture Range Box Logo Backpack\\nNWT']\n",
      "['Piquadro Elegant Blue Mixed-Material Backpack\\nNWT']\n",
      "['Piquadro Sleek Eco-Conscious Urban Backpack\\nNWT']\n",
      "['atsuko ONE PIECE Straw Hat Crew Canvas Backpack Rucksack School bag Punk NWT\\nNWT']\n",
      "['Supreme hat']\n",
      "['SUPREME NY Terry S Logo 6 Panel Hat Cap YELLOW Adjustable Strapback NEW no tags']\n",
      "[\"Medium Nike Men's Basketball Shorts\\nNWT\"]\n",
      "['north face cold gear sweats']\n",
      "['Vintage Carhartt Double Knee Dungaree Pant 32x32 Gray Fade Distressed Thrashed']\n",
      "['Stussy Fuzzy Dice Tee\\nNWT']\n",
      "['NEW YORK SUNSHINE x NIKE INSTALL TEAM SWEATSHIRT SZ LARGE']\n",
      "['Funkadelic One Nation Under a Groove Promo Pin/Button 1978']\n",
      "['Vintage varsity letter C patch']\n",
      "['Donald J Trump Signature Collection Black & Gray Checked Silk Necktie']\n",
      "['Vintage Abu Garcia Ambassadeur 6500 C4 Elite Casting Reel Blue AS IS Scratched']\n",
      "['Malbon Shorts Men Medium Blue Golf Hybrid Swim Cotton Blend 6\" Elastic Waist NEW\\nNWT']\n",
      "['Yes Zee Elastic Waist Regular Fit Trousers with Drawstring\\nNWT']\n",
      "['You get all 6 pairs all size 9 Good shape no box Elevate your sneake']\n",
      "['Nike Air Trainer 1 MID PRM PB QS Pro Bowl Size 9.5']\n",
      "[\"Men's Kansas City Chiefs Travis Kelce Red Jersey #87\"]\n",
      "['Pit viper grand prix']\n",
      "[\"Men's\\u205fFaux Carhartt Gray Purple 1/4 Zip Tie Dye Fleece Pullover Jacket\"]\n",
      "['Carhartt jacket']\n",
      "['Vintage Carhartt Detroit Jacket Brown J001 Blanket Lined Canvas USA Made Medium']\n",
      "['Carhartt J141 Brown Sherpa Lined Duck Canvas Hooded Jacket Coat Mens Large']\n",
      "[\"Men's Size 9 Nike KD 6 Elite Hero Pack\"]\n",
      "['Nike Air VaporMax 2 Black Metallic Gold Womens Size 9.5 Shoes 942843-012 Flyknit']\n",
      "['stussy black short-sleeved T-shirt']\n",
      "['Men’s new balance 550 size 9.5']\n",
      "['Carhartt Rugged\\u2004FlexStraight Fit']\n",
      "['Rare Doc Marten Made in England Langston Boots']\n",
      "['INSOMIAC LTD Men’s Black LTD Cotton\\u205fHoodie Size L']\n",
      "['🟣Firm Price🟣 Nike dry fit tee']\n",
      "['ESSENTIALS FEAR OF GOD hoodie size L']\n",
      "['Oyster size M medium hartsfield short characol fleck']\n",
      "['Men’s sunglasses']\n",
      "['New mens Calvin Kline']\n",
      "['HEATWAVE SUNGLASSES']\n",
      "['NENS BLING AVIATOR SUNGLASSES']\n",
      "[\"Carhartt 105693 Men's Mesh Back Outdoors Patch Trucker Hat Brown\\nNWT\"]\n",
      "[\"Carhartt Men's Canvas Odessa Baseball Cap - Light Blue\\nNWT\"]\n",
      "['Salehe Bembury Crocs NAVY\\nNWT']\n",
      "['Nike Dri-FIT Legacy91 Tech Training Hat - Unisex\\nNWT']\n",
      "['Nike Court Heritage86 Logo Tennis Hat Black Adult One Size\\nNWT']\n",
      "['The North Face Men’s Roxborough Luxe Hooded Jacket, Medium\\nNWT']\n",
      "[\"The North Face Men's HMLYN Relaxed-Fit Colorblocked Insulated Jacket L NWT\\nNWT\"]\n",
      "['Ray Ban Sunglasses Unisex FRAME Matte Black Blue Lens 3001Y Outdoor']\n",
      "['Ray-Ban Classic Aviator Sunglasses Black']\n",
      "['Ray-Ban RB3342 Aviator Sunglasses with Brown Gradient Lenses']\n",
      "['RayBan Brown Tortoise Shell Thin Frame Wayfarer Style Sunglasses']\n",
      "['Kith NY To The World Trucker Foam adjustable hat\\nNWT']\n",
      "['Kith New York Yankees Botanical Gardens 47 7 1/8 Medium\\nNWT']\n",
      "['New Balance Mens Black Hiking Outdoor Running & Training Shoes Sneakers NWT\\nNWT']\n",
      "['Carhartt NWT Blue Trucker Style Hat\\nNWT']\n",
      "['Carhartt NWT Trucker Style Hat\\nNWT']\n",
      "['Carhartt knit Pom beanie\\nNWT']\n",
      "['Method Man Wu-Tang Clan Oversized Hip Hop Tee L']\n",
      "['Have one to sell? Sell now Supreme Yin Yang Tee Yellow - Size Large\\nNWT']\n",
      "['New Balance 990v4 Made In USA. Size: 9.5 US']\n",
      "['Supreme big arc crewneck sweater']\n",
      "['Supreme Nike premium sweatshirt Black size L used']\n",
      "[\"JET PILOT BOARD SHORTS MEN'S SIZE 32\"]\n",
      "[\"Porsche Driver's Selection Red Crest FlexFit Hat Unisex One Size\"]\n",
      "['Han Kjøbenhavn Logo Embroidered Cap in Black']\n",
      "['Los Angeles paisley SnapBack']\n",
      "['Vintage\\u205fBailey Wool Cabbie Hat - XL']\n",
      "['Hank Williams Jr baseball raglan tee tshirt Large 100% cotton']\n",
      "['Eric Emanuel']\n",
      "['Cassette tape shorts']\n",
      "['Carhartt work pants size 32x34']\n",
      "['Stussy California Palm Desert Long Sleeve']\n",
      "['Nike Golf Hat, Harbor Town Golf Links, adjustable back']\n",
      "['Columbia Fireflies Hat\\u205fCap Strap Back Mens Beige Nike Minor League Baseball Logo']\n",
      "['VTG NIKE Texas Tech Red Raiders Black And Red Adjustable Hat Embroidered L 7 3/8']\n",
      "['Nike Dri-Fit Rutgers University Scarlet Knights Just Do It Black Visor']\n",
      "['Swiss Army Watch box']\n",
      "['Mens everyday box']\n",
      "['Aime Leon Dore Hunter Green Yankee Hat (NEW NEVER WORN)']\n",
      "['Aime Leon Dore Navy Yankee Hat (NEW NEVER WORN)']\n",
      "['Vintage Team USA Olympics GM General Motors Proud Sponsor Snapback Hat Cap']\n",
      "['Mousqueton Wool Knit Watch Cap Fisherman Hat Beanie Striped Blue Ivory']\n",
      "['Vintage 1990’s Neon pink Louisville Redbirds baseball hat cap advertising 99.7']\n",
      "['Nike vintage sweater']\n",
      "['Blue and White Nike Tech']\n",
      "['The North Face Gotham III 550 Down Zip Hood Logo Winter Jacket Coat Mens Large']\n",
      "['Tribes of the Indian Nation T Shirt Vintage Y2K Adult Cream Large L Graphic Tee']\n",
      "['Y2K Nike\\u205fPants']\n",
      "['Dr. Marten 1460 Navy (dark) boots-very nice and never worn']\n",
      "['Stussy Beanie Unisex Gray Cap Hat White Logo New Casual Designer Thick\\nNWT']\n",
      "['Wild Turkey Bourbon SnapBack Cord Trucker Hat Camo']\n",
      "['Raw Gear Trucker Hat NEVER WORN']\n",
      "['Madonna World Drowned\\u205fTour 2001 Hat']\n",
      "['SHADYRAYS SIGNATURE SERIES Unisex Blackout Polarized \"INCOGNITO\" Sun Glasses 🕶️']\n",
      "['Burberry sunglasses']\n",
      "['Carerra sunglasses']\n",
      "['Authentic Prive Revaux men’s sunglasses']\n",
      "['NIKE Mens Therma Fit Green Logo Hoodie Pullover Sweatshirt Size L']\n",
      "['New, never-used sunglasses']\n",
      "['The Original Oval MOD\\u205f“Cobain”\\u205fSunglasses']\n",
      "['Nike pro combat tshirt mens size large gray']\n"
     ]
    }
   ],
   "source": [
    "# each item on the Just Picked for You page has a text description under the tag specified by .find_by_css\n",
    "pants = []\n",
    "tees = []\n",
    "hats = []\n",
    "jackets = []\n",
    "sunglasses = []\n",
    "item_list = []\n",
    "for items in browser.find_by_css('div[class=\"title__condition__container\"]'):\n",
    "    # this print statement prints the text under each tag -- this is the description of the item provided by the seller\n",
    "    descriptions = items.text.split(\"/n\")\n",
    "    item_list.append(descriptions)\n",
    "    print(descriptions)\n",
    "    for product in descriptions:\n",
    "        if \"Pants\" in product:\n",
    "            pants.append(product)\n",
    "        elif \"Tee\" in product:\n",
    "            tees.append(product)\n",
    "        elif \"Shirt\" in product:\n",
    "            tees.append(product)\n",
    "        elif \"Hat\" in product:\n",
    "            hats.append(product)\n",
    "        elif \"Jacket\" in product:\n",
    "            jackets.append(product)\n",
    "        elif \"Hoodie\" in product:\n",
    "            jackets.append(product)\n",
    "        elif \"sunglasses\" in product:\n",
    "            sunglasses.append(product)\n",
    "        else:\n",
    "            continue"
   ]
  },
  {
   "cell_type": "code",
   "execution_count": 35,
   "id": "4ace353f",
   "metadata": {},
   "outputs": [
    {
     "name": "stdout",
     "output_type": "stream",
     "text": [
      "Perfetto Pants Mens Size M Parachute Colorful Vintage 90s Athletic Tribal Purple\n",
      "Guapi Gvapi Men’s Jogger Pants 32 x 32 Limited Edition Black Crystals Blood Red\n",
      "Y2K Nike Pants\n"
     ]
    }
   ],
   "source": [
    "#print(pants, sep=\"/n\")\n",
    "for single in pants:\n",
    "    print(single)"
   ]
  },
  {
   "cell_type": "code",
   "execution_count": 36,
   "id": "1b264dda",
   "metadata": {},
   "outputs": [
    {
     "data": {
      "text/plain": [
       "['Perfetto Pants Mens Size M Parachute Colorful Vintage 90s Athletic Tribal Purple',\n",
       " 'Guapi Gvapi Men’s Jogger Pants 32 x 32 Limited Edition Black Crystals Blood Red',\n",
       " 'Y2K Nike\\u205fPants']"
      ]
     },
     "execution_count": 36,
     "metadata": {},
     "output_type": "execute_result"
    }
   ],
   "source": [
    "pants"
   ]
  },
  {
   "cell_type": "code",
   "execution_count": 37,
   "id": "84af5559",
   "metadata": {},
   "outputs": [
    {
     "name": "stdout",
     "output_type": "stream",
     "text": [
      "Stussy Graphic Tee\n",
      "Shirt\n",
      "Stussy Fuzzy Dice Tee\n",
      "NWT\n",
      "Method Man Wu-Tang Clan Oversized Hip Hop Tee L\n",
      "Have one to sell? Sell now Supreme Yin Yang Tee Yellow - Size Large\n",
      "NWT\n",
      "Tribes of the Indian Nation T Shirt Vintage Y2K Adult Cream Large L Graphic Tee\n"
     ]
    }
   ],
   "source": [
    "for singles in tees:\n",
    "    print(singles)"
   ]
  },
  {
   "cell_type": "code",
   "execution_count": 38,
   "id": "b79498c9",
   "metadata": {
    "collapsed": true
   },
   "outputs": [
    {
     "name": "stdout",
     "output_type": "stream",
     "text": [
      "Supreme Logo Twill Crusher Hat 2021 Collection Strapback Hat\n",
      "Men’s Carhartt Hat\n",
      "Stussy - Polka Dot Corduroy Strapback Hat Wine\n",
      "Supreme 2-Tone Camp Cap Hat White FW23 Supreme New York 2023 Brand New Free S&H\n",
      "NWT\n",
      "Supreme Hat, Double S 5 Panel Hat\n",
      "NWT\n",
      "ROCK ‘N THE KNOB Blue Knob Ski Resort PA Fersten Bucket Adult OS Sun Hat Cap NEW\n",
      "NWT\n",
      "University of Notre Dame Alumni Hat NWT\n",
      "NWT\n",
      "atsuko ONE PIECE Straw Hat Crew Canvas Backpack Rucksack School bag Punk NWT\n",
      "NWT\n",
      "SUPREME NY Terry S Logo 6 Panel Hat Cap YELLOW Adjustable Strapback NEW no tags\n",
      "Carhartt 105693 Men's Mesh Back Outdoors Patch Trucker Hat Brown\n",
      "NWT\n",
      "Nike Dri-FIT Legacy91 Tech Training Hat - Unisex\n",
      "NWT\n",
      "Nike Court Heritage86 Logo Tennis Hat Black Adult One Size\n",
      "NWT\n",
      "Carhartt NWT Blue Trucker Style Hat\n",
      "NWT\n",
      "Carhartt NWT Trucker Style Hat\n",
      "NWT\n",
      "Porsche Driver's Selection Red Crest FlexFit Hat Unisex One Size\n",
      "Vintage Bailey Wool Cabbie Hat - XL\n",
      "Nike Golf Hat, Harbor Town Golf Links, adjustable back\n",
      "Columbia Fireflies Hat Cap Strap Back Mens Beige Nike Minor League Baseball Logo\n",
      "VTG NIKE Texas Tech Red Raiders Black And Red Adjustable Hat Embroidered L 7 3/8\n",
      "Aime Leon Dore Hunter Green Yankee Hat (NEW NEVER WORN)\n",
      "Aime Leon Dore Navy Yankee Hat (NEW NEVER WORN)\n",
      "Vintage Team USA Olympics GM General Motors Proud Sponsor Snapback Hat Cap\n",
      "Mousqueton Wool Knit Watch Cap Fisherman Hat Beanie Striped Blue Ivory\n",
      "Stussy Beanie Unisex Gray Cap Hat White Logo New Casual Designer Thick\n",
      "NWT\n",
      "Wild Turkey Bourbon SnapBack Cord Trucker Hat Camo\n",
      "Raw Gear Trucker Hat NEVER WORN\n",
      "Madonna World Drowned Tour 2001 Hat\n"
     ]
    }
   ],
   "source": [
    "for hat in hats:\n",
    "    print(hat)"
   ]
  },
  {
   "cell_type": "code",
   "execution_count": 39,
   "id": "4330b510",
   "metadata": {
    "collapsed": true
   },
   "outputs": [
    {
     "name": "stdout",
     "output_type": "stream",
     "text": [
      "Nike Tie-dye Fleece Pullover Hoodie Mens DZ3062-546 Hooded Sweatshirt\n",
      "NWT\n",
      "Men's Faux Carhartt Gray Purple 1/4 Zip Tie Dye Fleece Pullover Jacket\n",
      "Vintage Carhartt Detroit Jacket Brown J001 Blanket Lined Canvas USA Made Medium\n",
      "Carhartt J141 Brown Sherpa Lined Duck Canvas Hooded Jacket Coat Mens Large\n",
      "INSOMIAC LTD Men’s Black LTD Cotton Hoodie Size L\n",
      "The North Face Men’s Roxborough Luxe Hooded Jacket, Medium\n",
      "NWT\n",
      "The North Face Men's HMLYN Relaxed-Fit Colorblocked Insulated Jacket L NWT\n",
      "NWT\n",
      "The North Face Gotham III 550 Down Zip Hood Logo Winter Jacket Coat Mens Large\n",
      "NIKE Mens Therma Fit Green Logo Hoodie Pullover Sweatshirt Size L\n"
     ]
    }
   ],
   "source": [
    "for jacket in jackets:\n",
    "    print(jacket)"
   ]
  },
  {
   "cell_type": "code",
   "execution_count": 54,
   "id": "7d62a421",
   "metadata": {},
   "outputs": [],
   "source": [
    "with open('clothing_file.csv', mode='w') as clothing_file:\n",
    "    clothing_writer = csv.writer(clothing_file, delimiter=',', quotechar='\"')\n",
    "    \n",
    "    clothing_writer.writerow(['#', 'Description'])\n",
    "    clothing_writer.writerow(tees)"
   ]
  },
  {
   "cell_type": "markdown",
   "id": "9d79c610",
   "metadata": {},
   "source": [
    "# Random Outfit Generator"
   ]
  },
  {
   "cell_type": "code",
   "execution_count": 55,
   "id": "a7cfabac",
   "metadata": {},
   "outputs": [],
   "source": [
    "import random\n",
    "def random_outfit_gen(list1, list2, list3, list4):\n",
    "    pants = random.choice(list1)\n",
    "    tees = random.choice(list2)\n",
    "    hats = random.choice(list3)\n",
    "    jackets = random.choice(list4)\n",
    "    if not pants:\n",
    "        return None\n",
    "    elif not tees:\n",
    "        return None\n",
    "    elif not hats:\n",
    "        return None\n",
    "    elif not jackets:\n",
    "        return None\n",
    "    else:\n",
    "        print(pants+'\\n'+tees+'\\n'+hats+'\\n'+jackets)"
   ]
  },
  {
   "cell_type": "code",
   "execution_count": 59,
   "id": "7cfea460",
   "metadata": {},
   "outputs": [
    {
     "name": "stdout",
     "output_type": "stream",
     "text": [
      "Guapi Gvapi Men’s Jogger Pants 32 x 32 Limited Edition Black Crystals Blood Red\n",
      "Stussy Graphic Tee\n",
      "Men's Faux Carhartt Gray Purple 1/4 Zip Tie Dye Fleece Pullover Jacket\n",
      "University of Notre Dame Alumni Hat NWT\n",
      "NWT\n"
     ]
    }
   ],
   "source": [
    "random_outfit_gen(pants, tees, jackets, hats)"
   ]
  },
  {
   "cell_type": "code",
   "execution_count": 62,
   "id": "a1f72a80",
   "metadata": {},
   "outputs": [
    {
     "name": "stdout",
     "output_type": "stream",
     "text": [
      "Shirt\n",
      "Tribes of the Indian Nation T Shirt Vintage Y2K Adult Cream Large L Graphic Tee\n",
      "Method Man Wu-Tang Clan Oversized Hip Hop Tee L\n",
      "Stussy Fuzzy Dice Tee\n",
      "NWT\n"
     ]
    }
   ],
   "source": [
    "random_outfit_gen(tees, tees, tees, tees)"
   ]
  },
  {
   "cell_type": "code",
   "execution_count": 63,
   "id": "b9eec537",
   "metadata": {},
   "outputs": [],
   "source": [
    "browser.quit()"
   ]
  },
  {
   "cell_type": "code",
   "execution_count": null,
   "id": "a13c1fa8",
   "metadata": {},
   "outputs": [],
   "source": []
  }
 ],
 "metadata": {
  "kernelspec": {
   "display_name": "Python 3 (ipykernel)",
   "language": "python",
   "name": "python3"
  },
  "language_info": {
   "codemirror_mode": {
    "name": "ipython",
    "version": 3
   },
   "file_extension": ".py",
   "mimetype": "text/x-python",
   "name": "python",
   "nbconvert_exporter": "python",
   "pygments_lexer": "ipython3",
   "version": "3.9.13"
  }
 },
 "nbformat": 4,
 "nbformat_minor": 5
}
